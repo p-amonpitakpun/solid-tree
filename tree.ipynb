{
 "cells": [
  {
   "cell_type": "code",
   "execution_count": 1,
   "metadata": {},
   "outputs": [],
   "source": [
    "from solid import translate, rotate, union\n",
    "from solid import cylinder, sphere\n",
    "from solid import scad_render\n",
    "from viewscad import Renderer\n",
    "\n",
    "from datetime import datetime\n",
    "\n",
    "import numpy as np\n",
    "\n",
    "renderer = Renderer(openscad_exec='C:\\Program Files\\OpenSCAD\\openscad.exe')"
   ]
  },
  {
   "cell_type": "code",
   "execution_count": 42,
   "metadata": {},
   "outputs": [
    {
     "name": "stdout",
     "output_type": "stream",
     "text": [
      "estimate time: 30 s\n"
     ]
    },
    {
     "data": {
      "application/vnd.jupyter.widget-view+json": {
       "model_id": "67b5da171c6c459c95b0919a756406bd",
       "version_major": 2,
       "version_minor": 0
      },
      "text/plain": [
       "VBox(children=(HTML(value=''), Renderer(background='#cccc88', background_opacity=0.0, camera=PerspectiveCamera…"
      ]
     },
     "metadata": {},
     "output_type": "display_data"
    },
    {
     "name": "stdout",
     "output_type": "stream",
     "text": [
      "30.806\n"
     ]
    }
   ],
   "source": [
    "start_time = datetime.now()\n",
    "\n",
    "# tree randomizer\n",
    "%run Tree.py\n",
    "\n",
    "t = Tree([0, 0, 0], [0, 0, 0])\n",
    "t.grow(4)\n",
    "tn = t.getParts()\n",
    "\n",
    "print('estimate time:', len(tn) * 2, 's')\n",
    "\n",
    "# renderable parts\n",
    "renderer.render(t.getObject())\n",
    "\n",
    "print(f'{(datetime.now() - start_time).total_seconds():0.3f}')"
   ]
  },
  {
   "cell_type": "code",
   "execution_count": 44,
   "metadata": {},
   "outputs": [
    {
     "name": "stdout",
     "output_type": "stream",
     "text": [
      "[   [   [0, 0, 0],\n",
      "        [0, -6.772092199518539, -70.06527309812998],\n",
      "        [50.0, 2, 1.5],\n",
      "        [2]],\n",
      "    [   [-2.0102427080360736, 5.542735403481017, 49.65115314372654],\n",
      "        [0, -14.273343284308194, 73.87597562043908],\n",
      "        [37.5, 1.5, 1.0],\n",
      "        [1.5]],\n",
      "    [   [-4.5778952316320645, -3.339126002726272, 85.99354847588643],\n",
      "        [0, -2.1121294287160346, 13.767033227087751],\n",
      "        [25.0, 1.0, 0.5],\n",
      "        [1.0]],\n",
      "    [   [-5.472806801290242, -3.5583914657973184, 110.97656382510311],\n",
      "        [0, -9.11533904639986, -126.3394034768938],\n",
      "        [12.5, 0.5, 0.0],\n",
      "        [0.5]],\n",
      "    [   [-2.0102427080360736, 5.542735403481017, 49.65115314372654],\n",
      "        [0, 62.563099336640576, 80.62450196431044],\n",
      "        [37.5, 1.125, 0.75],\n",
      "        [1.125]],\n",
      "    [   [3.4115226324419363, 38.38010780565551, 66.93008350164222],\n",
      "        [0, 71.207129013644, 92.5829115942785],\n",
      "        [25.0, 0.75, 0.375],\n",
      "        [0.75]],\n",
      "    [   [2.3449576967363237, 62.0232969591614, 74.98378115486119],\n",
      "        [0, 66.09303970145905, -64.56694217813404],\n",
      "        [12.5, 0.375, 0.0],\n",
      "        [0.375]],\n",
      "    [   [-4.5778952316320645, -3.339126002726272, 85.99354847588643],\n",
      "        [0, 73.32052334782705, 58.57641168504949],\n",
      "        [25.0, 0.75, 0.375],\n",
      "        [0.75]],\n",
      "    [   [7.907727677775142, 17.09668447174576, 93.16898371115578],\n",
      "        [0, 65.61447619203011, 116.65125041718791],\n",
      "        [12.5, 0.375, 0.0],\n",
      "        [0.375]],\n",
      "    [   [3.4115226324419363, 38.38010780565551, 66.93008350164222],\n",
      "        [0, 121.90097885439417, 186.8560780962056],\n",
      "        [25.0, 0.5625, 0.28125],\n",
      "        [0.5625]],\n",
      "    [   [-17.660773632930987, 35.84646844401655, 53.71876253477808],\n",
      "        [0, 133.71252754394584, 299.7727872837536],\n",
      "        [12.5, 0.28125, 0.0],\n",
      "        [0.28125]],\n",
      "    [   [-5.472806801290242, -3.5583914657973184, 110.97656382510311],\n",
      "        [0, 52.70017281798978, -81.27725888829656],\n",
      "        [12.5, 0.375, 0.0],\n",
      "        [0.375]],\n",
      "    [   [2.3449576967363237, 62.0232969591614, 74.98378115486119],\n",
      "        [0, 153.7326563582078, -32.95418072937366],\n",
      "        [12.5, 0.28125, 0.0],\n",
      "        [0.28125]],\n",
      "    [   [7.907727677775142, 17.09668447174576, 93.16898371115578],\n",
      "        [0, 144.14901769925666, 150.7222959894164],\n",
      "        [12.5, 0.28125, 0.0],\n",
      "        [0.28125]],\n",
      "    [   [-17.660773632930987, 35.84646844401655, 53.71876253477808],\n",
      "        [0, 195.34308857759547, 285.4173767383181],\n",
      "        [12.5, 0.2109375, 0.0],\n",
      "        [0.2109375]]]\n"
     ]
    }
   ],
   "source": [
    "import pprint\n",
    "\n",
    "config = t.getConfig()\n",
    "\n",
    "pp = pprint.PrettyPrinter(indent=4)\n",
    "pp.pprint(config)"
   ]
  },
  {
   "cell_type": "code",
   "execution_count": null,
   "metadata": {},
   "outputs": [],
   "source": [
    "def decay(y_0, y_N, k):\n",
    "    def y(x):\n",
    "        return y_N - (y_N - y_0) * np.exp(- k * x)\n",
    "    return y"
   ]
  },
  {
   "cell_type": "code",
   "execution_count": null,
   "metadata": {},
   "outputs": [],
   "source": [
    "N = 10\n",
    "\n",
    "L_0 = 50 * 0.3\n",
    "L_N = 50\n",
    "k_L =  - np.log(0.05) / N\n",
    "L = decay(L_0, L_N, k_L)\n",
    "\n",
    "r_0 = 0.5\n",
    "r_N = 0.1\n",
    "k_r =  - np.log(0.05) / N\n",
    "r = decay(r_0, r_N, k_r)\n",
    "\n",
    "theta_0 = 0\n",
    "theta_N = 45\n",
    "k_theta = - np.log(0.05) / N\n",
    "theta = decay(0, 45, k_theta)\n",
    "\n",
    "r1 = r_0\n",
    "C_list = []\n",
    "L_list = []\n",
    "\n",
    "start_point = [0, 0, 0]\n",
    "orientation = [0, 0, 0]\n",
    "\n",
    "Theta = [orientation[1]]\n",
    "Phi = [orientation[2]]\n",
    "X = [start_point[0]]\n",
    "Y = [start_point[1]]\n",
    "Z = [start_point[2]]\n",
    "\n",
    "\n",
    "for i in range(N):\n",
    "    l = L(i) - sum(L_list)\n",
    "    r2 = r(i)\n",
    "    t = 5 - 5 * np.random.rand()\n",
    "    phi = 5 - 5 * np.random.rand()\n",
    "    z = l * np.cos(np.deg2rad(np.sum(Theta) + t))\n",
    "    w = l * np.sin(np.deg2rad(np.sum(Theta) + t))\n",
    "    x = w * np.cos(np.deg2rad(np.sum(Phi) + phi))\n",
    "    y = w * np.sin(np.deg2rad(np.sum(Phi) + phi))\n",
    "    \n",
    "    print(f'L: {l:.03f} \\t r: {r1:.03f} , {r2:.03f} \\t t: {t:.03f}')\n",
    "    \n",
    "    \n",
    "    c = translate([sum(X), sum(Y), sum(Z)])(\n",
    "        rotate([0, sum(Theta) + t, sum(Phi) + phi])(\n",
    "            cylinder(h=l, r1=r1, r2=r2)\n",
    "        )\n",
    "    )\n",
    "        \n",
    "    \n",
    "    C_list.append(c.copy())\n",
    "    L_list.append(l)\n",
    "    r1 = r2\n",
    "    \n",
    "    Theta.append(t)\n",
    "    Phi.append(phi)\n",
    "    X.append(x)\n",
    "    Y.append(y)\n",
    "    Z.append(z)"
   ]
  },
  {
   "cell_type": "code",
   "execution_count": null,
   "metadata": {},
   "outputs": [],
   "source": [
    "renderer.render(union()(*C_list))"
   ]
  },
  {
   "cell_type": "code",
   "execution_count": null,
   "metadata": {},
   "outputs": [],
   "source": []
  }
 ],
 "metadata": {
  "kernelspec": {
   "display_name": "Python 3",
   "language": "python",
   "name": "python3"
  },
  "language_info": {
   "codemirror_mode": {
    "name": "ipython",
    "version": 3
   },
   "file_extension": ".py",
   "mimetype": "text/x-python",
   "name": "python",
   "nbconvert_exporter": "python",
   "pygments_lexer": "ipython3",
   "version": "3.8.5"
  }
 },
 "nbformat": 4,
 "nbformat_minor": 4
}
