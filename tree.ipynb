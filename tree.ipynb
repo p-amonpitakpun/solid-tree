{
 "cells": [
  {
   "cell_type": "code",
   "execution_count": 1,
   "metadata": {},
   "outputs": [],
   "source": [
    "from solid import translate, rotate, union\n",
    "from solid import cylinder, sphere\n",
    "from solid import scad_render\n",
    "from viewscad import Renderer\n",
    "\n",
    "from datetime import datetime\n",
    "\n",
    "import numpy as np\n",
    "\n",
    "renderer = Renderer(openscad_exec='C:\\Program Files\\OpenSCAD\\openscad.exe')"
   ]
  },
  {
   "cell_type": "code",
   "execution_count": 15,
   "metadata": {},
   "outputs": [
    {
     "name": "stdout",
     "output_type": "stream",
     "text": [
      "8 15\n"
     ]
    },
    {
     "data": {
      "application/vnd.jupyter.widget-view+json": {
       "model_id": "e51e70dd0b30456d9db1433f65a897bd",
       "version_major": 2,
       "version_minor": 0
      },
      "text/plain": [
       "VBox(children=(HTML(value=''), Renderer(background='#cccc88', background_opacity=0.0, camera=PerspectiveCamera…"
      ]
     },
     "metadata": {},
     "output_type": "display_data"
    },
    {
     "name": "stdout",
     "output_type": "stream",
     "text": [
      "28.488\n"
     ]
    }
   ],
   "source": [
    "start_time = datetime.now()\n",
    "%run Tree.py\n",
    "\n",
    "t = Tree([0, 0, 0], [0, 0, 0])\n",
    "t.render(4)\n",
    "tn = t.getParts()\n",
    "print(len(t.branches), len(tn))\n",
    "renderer.render(union()(tn))\n",
    "print(f'{(datetime.now() - start_time).total_seconds():0.3f}')"
   ]
  },
  {
   "cell_type": "code",
   "execution_count": 16,
   "metadata": {},
   "outputs": [
    {
     "name": "stdout",
     "output_type": "stream",
     "text": [
      "[   [   [0, 0, 0],\n",
      "        [0, 13.229581387404254, -67.79962691117754],\n",
      "        [50.0, 2, 1.5],\n",
      "        [2]],\n",
      "    [   [4.323578146832295, -10.594407635400241, 48.673043862729685],\n",
      "        [0, 10.612544927364533, -45.83000840342717],\n",
      "        [37.5, 1.5, 1.0],\n",
      "        [1.5]],\n",
      "    [   [9.13577804615213, -15.548089703716245, 85.53160821479081],\n",
      "        [0, 19.922565298096693, 92.09119325798824],\n",
      "        [25.0, 1.0, 0.5],\n",
      "        [1.0]],\n",
      "    [   [8.824928106131013, -7.035016923742063, 109.03545820064741],\n",
      "        [0, 28.447267697293434, 260.596371082039],\n",
      "        [12.5, 0.5, 0.0],\n",
      "        [0.5]],\n",
      "    [   [4.323578146832295, -10.594407635400241, 48.673043862729685],\n",
      "        [0, 89.92495864395892, 194.77737181468683],\n",
      "        [37.5, 1.125, 0.75],\n",
      "        [1.125]],\n",
      "    [   [-31.93604817945286, -20.159295844369836, 48.7221583013661],\n",
      "        [0, 79.45584815802937, 317.3492504126506],\n",
      "        [25.0, 0.75, 0.375],\n",
      "        [0.75]],\n",
      "    [   [-13.859103496237978, -36.811473177596795, 53.296987367326],\n",
      "        [0, 75.45048346942812, 269.456602012098],\n",
      "        [12.5, 0.375, 0.0],\n",
      "        [0.375]],\n",
      "    [   [9.13577804615213, -15.548089703716245, 85.53160821479081],\n",
      "        [0, 73.12831089608422, -42.93258366040211],\n",
      "        [25.0, 0.75, 0.375],\n",
      "        [0.75]],\n",
      "    [   [26.65181712456431, -31.84357043425384, 92.78734268927478],\n",
      "        [0, 85.51162075197772, -124.05839757888808],\n",
      "        [12.5, 0.375, 0.0],\n",
      "        [0.375]],\n",
      "    [   [-31.93604817945286, -20.159295844369836, 48.7221583013661],\n",
      "        [0, 150.7684822862384, 25.377369702622218],\n",
      "        [25.0, 0.5625, 0.28125],\n",
      "        [0.5625]],\n",
      "    [   [-20.905616992838354, -14.927000060114215, 26.90581881318837],\n",
      "        [0, 161.03306686524897, 86.58256420862736],\n",
      "        [12.5, 0.28125, 0.0],\n",
      "        [0.28125]],\n",
      "    [   [8.824928106131013, -7.035016923742063, 109.03545820064741],\n",
      "        [0, 92.75942810572244, 188.27124341557993],\n",
      "        [12.5, 0.375, 0.0],\n",
      "        [0.375]],\n",
      "    [   [-13.859103496237978, -36.811473177596795, 53.296987367326],\n",
      "        [0, 156.41501126425754, 336.97307311613577],\n",
      "        [12.5, 0.28125, 0.0],\n",
      "        [0.28125]],\n",
      "    [   [26.65181712456431, -31.84357043425384, 92.78734268927478],\n",
      "        [0, 124.66649234079534, 66.49179258774802],\n",
      "        [12.5, 0.28125, 0.0],\n",
      "        [0.28125]],\n",
      "    [   [-20.905616992838354, -14.927000060114215, 26.90581881318837],\n",
      "        [0, 228.02607891352716, -37.53242292047],\n",
      "        [12.5, 0.2109375, 0.0],\n",
      "        [0.2109375]]]\n"
     ]
    }
   ],
   "source": [
    "import pprint\n",
    "\n",
    "config = t.getConfig()\n",
    "\n",
    "pp = pprint.PrettyPrinter(indent=4)\n",
    "pp.pprint(config)"
   ]
  },
  {
   "cell_type": "code",
   "execution_count": null,
   "metadata": {},
   "outputs": [],
   "source": [
    "def decay(y_0, y_N, k):\n",
    "    def y(x):\n",
    "        return y_N - (y_N - y_0) * np.exp(- k * x)\n",
    "    return y"
   ]
  },
  {
   "cell_type": "code",
   "execution_count": null,
   "metadata": {},
   "outputs": [],
   "source": [
    "N = 10\n",
    "\n",
    "L_0 = 50 * 0.3\n",
    "L_N = 50\n",
    "k_L =  - np.log(0.05) / N\n",
    "L = decay(L_0, L_N, k_L)\n",
    "\n",
    "r_0 = 0.5\n",
    "r_N = 0.1\n",
    "k_r =  - np.log(0.05) / N\n",
    "r = decay(r_0, r_N, k_r)\n",
    "\n",
    "theta_0 = 0\n",
    "theta_N = 45\n",
    "k_theta = - np.log(0.05) / N\n",
    "theta = decay(0, 45, k_theta)\n",
    "\n",
    "r1 = r_0\n",
    "C_list = []\n",
    "L_list = []\n",
    "\n",
    "start_point = [0, 0, 0]\n",
    "orientation = [0, 0, 0]\n",
    "\n",
    "Theta = [orientation[1]]\n",
    "Phi = [orientation[2]]\n",
    "X = [start_point[0]]\n",
    "Y = [start_point[1]]\n",
    "Z = [start_point[2]]\n",
    "\n",
    "\n",
    "for i in range(N):\n",
    "    l = L(i) - sum(L_list)\n",
    "    r2 = r(i)\n",
    "    t = 5 - 5 * np.random.rand()\n",
    "    phi = 5 - 5 * np.random.rand()\n",
    "    z = l * np.cos(np.deg2rad(np.sum(Theta) + t))\n",
    "    w = l * np.sin(np.deg2rad(np.sum(Theta) + t))\n",
    "    x = w * np.cos(np.deg2rad(np.sum(Phi) + phi))\n",
    "    y = w * np.sin(np.deg2rad(np.sum(Phi) + phi))\n",
    "    \n",
    "    print(f'L: {l:.03f} \\t r: {r1:.03f} , {r2:.03f} \\t t: {t:.03f}')\n",
    "    \n",
    "    \n",
    "    c = translate([sum(X), sum(Y), sum(Z)])(\n",
    "        rotate([0, sum(Theta) + t, sum(Phi) + phi])(\n",
    "            cylinder(h=l, r1=r1, r2=r2)\n",
    "        )\n",
    "    )\n",
    "        \n",
    "    \n",
    "    C_list.append(c.copy())\n",
    "    L_list.append(l)\n",
    "    r1 = r2\n",
    "    \n",
    "    Theta.append(t)\n",
    "    Phi.append(phi)\n",
    "    X.append(x)\n",
    "    Y.append(y)\n",
    "    Z.append(z)"
   ]
  },
  {
   "cell_type": "code",
   "execution_count": null,
   "metadata": {},
   "outputs": [],
   "source": [
    "renderer.render(union()(*C_list))"
   ]
  },
  {
   "cell_type": "code",
   "execution_count": null,
   "metadata": {},
   "outputs": [],
   "source": []
  }
 ],
 "metadata": {
  "kernelspec": {
   "display_name": "Python 3",
   "language": "python",
   "name": "python3"
  },
  "language_info": {
   "codemirror_mode": {
    "name": "ipython",
    "version": 3
   },
   "file_extension": ".py",
   "mimetype": "text/x-python",
   "name": "python",
   "nbconvert_exporter": "python",
   "pygments_lexer": "ipython3",
   "version": "3.8.5"
  }
 },
 "nbformat": 4,
 "nbformat_minor": 4
}
